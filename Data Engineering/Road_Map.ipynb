{
 "cells": [
  {
   "cell_type": "markdown",
   "id": "eb34ef43-17ac-48a1-91e0-4cee9c9f2d8a",
   "metadata": {},
   "source": [
    "# ROAD MAP FOR DATA ENGINEERING\n"
   ]
  },
  {
   "cell_type": "markdown",
   "id": "d2503d2d-08b8-4010-b46f-c7a8a6fe1c67",
   "metadata": {},
   "source": [
    "Data Engineering Road Map\n",
    "\n",
    "👉Are you preparing for Data Engineering interviews..❓\n",
    " \n",
    "👨‍💻Before understanding the important questions it's really important to analyse what primary skills to focus on.\n",
    " \n",
    "✈️Sharing few important skills and it's level of exposure you need to have as a beginner ➖\n",
    " \n",
    "💲Python/Scala - Intermediate (Important concepts of data structures and algorithms, detailed problem solving on all data types, strings, arrays, date, and few medium programming solving) Level.\n",
    " \n",
    "💲SQL - Intermediate (CRUD operations, window functions, Joins, where, groupby, having) Level.\n",
    " \n",
    "💲ETL - Understanding of the ETL process, Data marts, data lake, warehouse. Knowledge and awareness of tools is important.\n",
    " \n",
    "📊Other than these, good communication, logical ability to convey your concepts and questions clearly to stakeholders plays an important role.\n",
    " \n",
    "📍Here are top 100 interview questions for Data Engineering by Interview Query !!\n",
    " \n",
    "🔸https://lnkd.in/dSuXsNZ2\n",
    " \n",
    "🔰\"It's not just about the number of years you've been working but the knowledge that you hold, matters.\"\n",
    " \n",
    "💬Not knowing everything is always better than knowing something, having idea of basic concepts of programming, querying, cloud, bigdata helps your data engineering journey nurture your from the start.\n",
    " \n",
    "🎯So, begin learning and reading around it to explore and grow in the field of data!\n",
    "\n",
    "interviewquery.com • 2 min read\n",
    "\n"
   ]
  },
  {
   "cell_type": "code",
   "execution_count": null,
   "id": "4cefddb9-f949-4f49-8d63-fe46feb96501",
   "metadata": {},
   "outputs": [],
   "source": []
  }
 ],
 "metadata": {
  "kernelspec": {
   "display_name": "default:Python",
   "language": "python",
   "name": "conda-env-default-py"
  },
  "language_info": {
   "codemirror_mode": {
    "name": "ipython",
    "version": 3
   },
   "file_extension": ".py",
   "mimetype": "text/x-python",
   "name": "python",
   "nbconvert_exporter": "python",
   "pygments_lexer": "ipython3",
   "version": "3.9.13"
  }
 },
 "nbformat": 4,
 "nbformat_minor": 5
}
